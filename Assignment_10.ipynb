{
  "nbformat": 4,
  "nbformat_minor": 0,
  "metadata": {
    "colab": {
      "name": "Assignment_10.ipynb",
      "provenance": [],
      "collapsed_sections": [],
      "authorship_tag": "ABX9TyMdo6Bc5f/k0E5m8JoKSezc",
      "include_colab_link": true
    },
    "kernelspec": {
      "name": "python3",
      "display_name": "Python 3"
    },
    "language_info": {
      "name": "python"
    }
  },
  "cells": [
    {
      "cell_type": "markdown",
      "metadata": {
        "id": "view-in-github",
        "colab_type": "text"
      },
      "source": [
        "<a href=\"https://colab.research.google.com/github/17sachin/Python-Advance-Assignmnet/blob/main/Assignment_10.ipynb\" target=\"_parent\"><img src=\"https://colab.research.google.com/assets/colab-badge.svg\" alt=\"Open In Colab\"/></a>"
      ]
    },
    {
      "cell_type": "markdown",
      "source": [
        "1.What is the difference between __getattr__ and __getattribute__?\n",
        "\n",
        "The main difference between __getattr__ and __getattribute__ is that if the attribute was not found by the usual way then __getattr__ is used.\n",
        "Whereas the __getattribute__ is used before looking at the actual attributes on the object. You will have to use it more consciously otherwise very easily you can end up in infinite recursions.\n",
        "\n",
        "\n"
      ],
      "metadata": {
        "id": "SZEI7QFclL4g"
      }
    },
    {
      "cell_type": "markdown",
      "source": [
        "Q2.What is the difference between properties and descriptors?\n",
        "\n",
        "Descriptors are a low-level mechanism that lets you hook into an object's attributes being accessed. Properties are a high-level application of this; that is, properties are implemented using descriptors."
      ],
      "metadata": {
        "id": "P4Ue9jtLoi3P"
      }
    },
    {
      "cell_type": "markdown",
      "source": [
        "Q3. What are the key differences in functionality between __getattr__ and __getattribute__, as well as properties and descriptors?\n",
        "\n",
        "getattribute: It is used to retrieve an attribute from an instance.\n",
        "getattr: Is executed as the last resource when attribute is not found in an object.\n",
        "\n",
        "Descriptors are a low-level mechanism that lets you hook into an object's attributes being accessed.\n",
        "\n",
        "Properties are a high-level application of this; that is, properties are implemented using descriptors\n"
      ],
      "metadata": {
        "id": "9Un1gxW8o19m"
      }
    }
  ]
}