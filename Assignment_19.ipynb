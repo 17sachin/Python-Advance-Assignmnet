{
  "nbformat": 4,
  "nbformat_minor": 0,
  "metadata": {
    "colab": {
      "name": "Assignment_19.ipynb",
      "provenance": [],
      "collapsed_sections": [],
      "authorship_tag": "ABX9TyMAlAKpeFS6x/AmrE/jApvU",
      "include_colab_link": true
    },
    "kernelspec": {
      "name": "python3",
      "display_name": "Python 3"
    },
    "language_info": {
      "name": "python"
    }
  },
  "cells": [
    {
      "cell_type": "markdown",
      "metadata": {
        "id": "view-in-github",
        "colab_type": "text"
      },
      "source": [
        "<a href=\"https://colab.research.google.com/github/17sachin/Python-Advance-Assignmnet/blob/main/Assignment_19.ipynb\" target=\"_parent\"><img src=\"https://colab.research.google.com/assets/colab-badge.svg\" alt=\"Open In Colab\"/></a>"
      ]
    },
    {
      "cell_type": "markdown",
      "source": [
        "Q1.Define the relationship between a class and its instances. Is it a one-to-one or a one-to-many partnership, for example?\n",
        "\n",
        "A class is a set of entities, which are called the instances of the class. An entity can be an instance of many classes, which are called its types, and a class can be a type of many classes.\n",
        "\n",
        "One-to-one relationships associate one record in one table with a single record in the other table. One-to-many relationships associate one record in one table with many records in the other table. ... It is not possible to have two foreign keys for each table as it will be impossible to create records"
      ],
      "metadata": {
        "id": "Yrub4r2APZGa"
      }
    },
    {
      "cell_type": "markdown",
      "source": [
        "Q2.What kind of data is held only in an instance?\n",
        "\n",
        "A class describes the data and the methods of its objects (also called instances). Every object belongs to some class. An object contains data (instance variables) representing its state, and instance methods, which are the things it can do. Each object has its own copies of the instance variables."
      ],
      "metadata": {
        "id": "lN-YmiZUP9Zq"
      }
    },
    {
      "cell_type": "markdown",
      "source": [
        "Q3.What kind of knowledge is stored in a class?\n",
        "\n",
        "Classes provide a means of bundling data and functionality together. Creating a new class creates a new type of object, allowing new instances of that type to be made. Each class instance can have attributes attached to it for maintaining its state."
      ],
      "metadata": {
        "id": "UPqO78nzQK0-"
      }
    },
    {
      "cell_type": "markdown",
      "source": [
        "Q4.What exactly is a method, and how is it different from a regular function?\n",
        "\n",
        "Method, mode, way imply a manner in which a thing is done or in which it happens. Method refers to a settled kind of procedure, usually according to a definite, established, logical, or systematic plan: the open-hearth method of making steel; one method of solving a problem.\n",
        "\n",
        "Methods are associated with the objects of the class they belong to. Functions are not associated with any object. ... Functions operate on the data you pass to them as arguments. Methods are dependent on the class they belong to."
      ],
      "metadata": {
        "id": "Ty8XsODhQeJX"
      }
    },
    {
      "cell_type": "markdown",
      "source": [
        "Q5.Is inheritance supported in Python, and if so, what is the syntax?\n",
        "\n",
        "Python not only supports inheritance but multiple inheritance as well. ... Inheritance allows programmers to create classes that are built upon existing classes, and this enables a class created through inheritance to inherit the attributes and methods of the parent class."
      ],
      "metadata": {
        "id": "A1kJeJKtQtiX"
      }
    },
    {
      "cell_type": "markdown",
      "source": [
        "Q6.How much encapsulation (making instance or class variables private) does Python support?\n",
        "\n",
        "In Python, Encapsulation can be achieved by declaring the data members of a class either as private or protected. In Python, 'Private' and 'Protected' are called Access Modifiers, as they modify the access of variables or methods defined in a class"
      ],
      "metadata": {
        "id": "TowiA6-HQ5ff"
      }
    },
    {
      "cell_type": "markdown",
      "source": [
        "Q7.How do you distinguish between a class variable and an instance variable?\n",
        "\n",
        "Class variables also known as static variables are declared with the static keyword in a class, but outside a method, constructor or a block. Instance variables are created when an object is created with the use of the keyword 'new' and destroyed when the object is destroyed"
      ],
      "metadata": {
        "id": "jHTFjTGlREAe"
      }
    },
    {
      "cell_type": "markdown",
      "source": [
        "Q8.When, if ever, can self be included in a class's method definitions?\n",
        "\n",
        "Defining an instance method. It is passed automatically as the first parameter when you call a method on an instance, and it is the instance on which the method was called.\n",
        "Referencing a class or instance attribute from inside an instance method."
      ],
      "metadata": {
        "id": "AYm_fIX-RJol"
      }
    },
    {
      "cell_type": "markdown",
      "source": [
        "Q9.What is the difference between the _ _add_ _ and the _ _radd_ _ methods?\n",
        "\n",
        "__radd__ is only called if the left object does not have an __add__ method, or that method does not know how to add the two objects (which it flags by returning NotImplemented). Both classes have an __add__ method, which do not return NotImplemented. Therefore the __radd__ method would never be called."
      ],
      "metadata": {
        "id": "nX7SIjvMRbQt"
      }
    },
    {
      "cell_type": "markdown",
      "source": [
        "Q10. When is it necessary to use a reflection method? When do you not need it, even though you support the operation in question?\n",
        "\n",
        "Reflection allows programmer to access entities in program dynamically. i.e. while coding an application if programmer is unaware about a class or its methods, he can make use of such class dynamically (at run time) by using reflection. It is frequently used in scenarios where a class name changes frequently."
      ],
      "metadata": {
        "id": "oAnsCS9ZRplO"
      }
    },
    {
      "cell_type": "markdown",
      "source": [
        "Q11.What is the _ _iadd_ _ method called?\n",
        "\n",
        "__add__ magic method is used to add the attributes of the class instance. For example, let's say object1 is an instance of a class A and object2 is an instance of class B and both of these classes have an attribute called 'a', that holds an integer."
      ],
      "metadata": {
        "id": "YzWmThFiR3uo"
      }
    },
    {
      "cell_type": "markdown",
      "source": [
        "Q12. Is the _ _init_ _ method inherited by subclasses? What do you do if you need to customize its behavior within a subclass?\n",
        "\n",
        "In Python, it is not compulsory that parent class constructor will always be called first. The order in which the __init__ method is called for a parent or a child class can be modified.\n",
        "\n"
      ],
      "metadata": {
        "id": "f09wENHeSOPv"
      }
    }
  ]
}