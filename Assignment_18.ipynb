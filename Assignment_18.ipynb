{
  "nbformat": 4,
  "nbformat_minor": 0,
  "metadata": {
    "colab": {
      "name": "Assignment_18.ipynb",
      "provenance": [],
      "collapsed_sections": [],
      "authorship_tag": "ABX9TyMIIdD02lJd8U9wVgIb7tLE",
      "include_colab_link": true
    },
    "kernelspec": {
      "name": "python3",
      "display_name": "Python 3"
    },
    "language_info": {
      "name": "python"
    }
  },
  "cells": [
    {
      "cell_type": "markdown",
      "metadata": {
        "id": "view-in-github",
        "colab_type": "text"
      },
      "source": [
        "<a href=\"https://colab.research.google.com/github/17sachin/Python-Advance-Assignmnet/blob/main/Assignment_18.ipynb\" target=\"_parent\"><img src=\"https://colab.research.google.com/assets/colab-badge.svg\" alt=\"Open In Colab\"/></a>"
      ]
    },
    {
      "cell_type": "markdown",
      "source": [
        "Q1.Describe the differences between text and binary files in a single paragraph.\n",
        "\n",
        "Binary file contains the data in the form of 0 and 1(series of binary values) and text files contains the data in the form of stream of characters.In general binary files are identified as executable files. But binary files are not in readable form as like text file.\n"
      ],
      "metadata": {
        "id": "_E_cnPpAQwGf"
      }
    },
    {
      "cell_type": "markdown",
      "source": [
        "Q2. What are some scenarios where using text files will be the better option? When would you like to use binary files instead of text files?\n",
        "\n",
        "When file does need to be read by people or need to be ported to a different type of system text files should be preferred over binary files.\n",
        "\n",
        "word processing documents, log files, and saved email messages.\n",
        "\n",
        "Binary files are used to store data more compactly. In the text file, a special character whose ASCII value is 26 inserted after the last character to mark the end of file. In the binary file no such character is present. Files keep track of the end of the file from the number of characters present\n",
        "\n",
        "\n"
      ],
      "metadata": {
        "id": "HVwwlT4SQ4XE"
      }
    },
    {
      "cell_type": "markdown",
      "source": [
        "Q3.What are some of the issues with using binary operations to read and write a Python integer directly to disc?\n",
        "\n",
        "\n"
      ],
      "metadata": {
        "id": "zLH7YnkVRk24"
      }
    },
    {
      "cell_type": "markdown",
      "source": [
        "Q4.Describe a benefit of using the with keyword instead of explicitly opening a file.\n",
        "\n",
        "Using with means that the file will be closed as soon as you leave the block. This is beneficial because closing a file is something that can easily be forgotten and ties up resources that you no longer need\n",
        "\n"
      ],
      "metadata": {
        "id": "e_MR2EqZR8NX"
      }
    },
    {
      "cell_type": "markdown",
      "source": [
        "Q5. Does Python have the trailing newline while reading a line of text? Does Python append a newline when you write a line of text?\n",
        "\n",
        "Python readline() is a file method that helps to read one complete line from the given file. It has a trailing newline (“\\n”) at the end of the string returned.\n",
        "\n",
        "This uses a backslash escape, \\n , which Python converts to a newline character in string literals. It just concatenates your string, name , and that newline character into a bigger string, which gets written to the file\n"
      ],
      "metadata": {
        "id": "iwDxN37KSG4n"
      }
    },
    {
      "cell_type": "markdown",
      "source": [
        "Q6.What file operations enable for random-access operation?\n",
        "\n",
        "A sequential file structure is the common way where records are stored in order by the record key field. Random file access is the superimposed mechanism implemented through Java code to access individual records directly and quickly without searching through records in the file.\n",
        "\n"
      ],
      "metadata": {
        "id": "nWc8yt8lSXX3"
      }
    },
    {
      "cell_type": "markdown",
      "source": [
        "Q7.When do you think you&#39;ll use the struct package the most?\n",
        "\n",
        "Structs are best suited for small data structures that contain primarily data that is not intended to be modified after the struct is created. 5) A struct is a value type. If you assign a struct to a new variable, the new variable will contain a copy of the original."
      ],
      "metadata": {
        "id": "hRpXn7g7SkG9"
      }
    },
    {
      "cell_type": "markdown",
      "source": [
        "Q8.When is pickling the best option?\n",
        "\n",
        "Pickle in Python is primarily used in serializing and deserializing a Python object structure. In other words, it’s the process of converting a Python object into a byte stream to store it in a file/database, maintain program state across sessions, or transport data over the network"
      ],
      "metadata": {
        "id": "m-7XWnMaStVG"
      }
    },
    {
      "cell_type": "markdown",
      "source": [
        "Q9.When will it be best to use the shelve package?\n",
        "\n",
        "The shelf dictionary has certain restrictions. Only string data type can be used as key in this special dictionary object, whereas any picklable Python object can be used as value."
      ],
      "metadata": {
        "id": "D_9tmVtUTHAe"
      }
    },
    {
      "cell_type": "markdown",
      "source": [
        "Q10. What is a special restriction when using the shelve package, as opposed to using other data dictionaries?\n",
        "\n",
        "The shelf dictionary has certain restrictions. Only string data type can be used as key in this special dictionary object, whereas any picklable Python object can be used as value.\n"
      ],
      "metadata": {
        "id": "UhR6zszcTSzX"
      }
    }
  ]
}