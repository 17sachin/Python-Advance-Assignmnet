{
  "nbformat": 4,
  "nbformat_minor": 0,
  "metadata": {
    "colab": {
      "name": "Assignment_24.ipynb",
      "provenance": [],
      "collapsed_sections": [],
      "authorship_tag": "ABX9TyMJdMZUwxRDml8gHtnfxHhQ",
      "include_colab_link": true
    },
    "kernelspec": {
      "name": "python3",
      "display_name": "Python 3"
    },
    "language_info": {
      "name": "python"
    }
  },
  "cells": [
    {
      "cell_type": "markdown",
      "metadata": {
        "id": "view-in-github",
        "colab_type": "text"
      },
      "source": [
        "<a href=\"https://colab.research.google.com/github/17sachin/Python-Advance-Assignmnet/blob/main/Assignment_24.ipynb\" target=\"_parent\"><img src=\"https://colab.research.google.com/assets/colab-badge.svg\" alt=\"Open In Colab\"/></a>"
      ]
    },
    {
      "cell_type": "markdown",
      "source": [
        "Q1. Is it permissible to use several import statements to import the same module? What would the goal be? Can you think of a situation where it would be beneficial?\n",
        "\n",
        "The rules are quite simple: the same module is evaluated only once, in other words, the module-level scope is executed just once. If the module, once evaluated, is imported again, it's second evaluation is skipped and the resolved already exports are used.\n",
        "\n",
        "There is only one module per line, so you don't have to search in the line to find the thing you wish to edit - it's at the end. Relocating an import inside a module is just moving a whole line"
      ],
      "metadata": {
        "id": "ma2c2DROJFhe"
      }
    },
    {
      "cell_type": "markdown",
      "source": [
        "Q2.What are some of a module's characteristics? (Name at least one.)\n",
        "\n",
        "Characteristics of Modules\n",
        "\n",
        "Modules contain instructions, processing logic, and data.\n",
        "\n",
        "Modules can be separately compiled and stored in a library.\n",
        "\n",
        "Modules can be included in a program.\n",
        "\n",
        "Module segments can be used by invoking a name and some parameters.\n",
        "\n",
        "Module segments can be used by other modules."
      ],
      "metadata": {
        "id": "oC6nBQD6JYXq"
      }
    },
    {
      "cell_type": "markdown",
      "source": [
        "Q3. Circular importing, such as when two modules import each other, can lead to dependencies and bugs that aren't visible. How can you go about creating a program that avoids mutual importing?\n",
        "\n",
        "When two or more modules rely on each other, this is referred to as a circular dependency. This is due to the fact that each module is defined in terms of the others. Python cyclic imports. Let's take these two python files as an example.\n",
        "\n",
        "There is a good workaround Python circular import error that you can import the module itself rather than importing object/function from the module. This way you can import and use all the objects and variables from the module.\n",
        "\n",
        "Importing The Module Itself.\n",
        "\n",
        "Rename Your Working file.\n",
        "\n",
        "Avoid Circular Import Calls.\n"
      ],
      "metadata": {
        "id": "FjR7PzO8JmHU"
      }
    },
    {
      "cell_type": "markdown",
      "source": [
        "Q4.Why is _ _all_ _ in Python?\n",
        "\n",
        "The __all__ is a variable in Python that provides the list of all the public objects of a particular module. It specifies all the modules that can be imported into the namespace in current use."
      ],
      "metadata": {
        "id": "dfP1m2OhJ7Of"
      }
    },
    {
      "cell_type": "markdown",
      "source": [
        "Q5. In what situation is it useful to refer to the _ _name_ _ attribute or the string '_ _main_ _'\n",
        "\n",
        "Every Python module has it's __name__ defined and if this is '__main__', it implies that the module is being run standalone by the user and we can do corresponding appropriate actions. If you import this script as a module in another script, the __name__ is set to the name of the script/module.\n"
      ],
      "metadata": {
        "id": "74V4dGFfKEY1"
      }
    },
    {
      "cell_type": "markdown",
      "source": [
        "Q6. What are some of the benefits of attaching a program counter to the RPN interpreter application, which interprets an RPN script line by line?"
      ],
      "metadata": {
        "id": "GFTO9sPRKTx7"
      }
    },
    {
      "cell_type": "markdown",
      "source": [
        "Q7. What are the minimum expressions or statements (or both) that you'd need to render a basic programming language like RPN primitive but complete— that is, capable of carrying out any computerised task theoretically possible?\n",
        "\n",
        "One should consider the language in which the programs can be developed and executed rapidly. Additionally, the language which requires less amount of memory for the storage of programs should be selected. A powerful Integrated Development Environment goes a long way in increasing the productivity of a programmer.\n",
        "\n"
      ],
      "metadata": {
        "id": "2eBVdFUNKn1V"
      }
    }
  ]
}