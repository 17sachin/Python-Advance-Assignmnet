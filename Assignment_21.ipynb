{
  "nbformat": 4,
  "nbformat_minor": 0,
  "metadata": {
    "colab": {
      "name": "Assignment_21.ipynb",
      "provenance": [],
      "collapsed_sections": [],
      "authorship_tag": "ABX9TyM6Ark9jfAQQYVTO73Y3R0c",
      "include_colab_link": true
    },
    "kernelspec": {
      "name": "python3",
      "display_name": "Python 3"
    },
    "language_info": {
      "name": "python"
    }
  },
  "cells": [
    {
      "cell_type": "markdown",
      "metadata": {
        "id": "view-in-github",
        "colab_type": "text"
      },
      "source": [
        "<a href=\"https://colab.research.google.com/github/17sachin/Python-Advance-Assignmnet/blob/main/Assignment_21.ipynb\" target=\"_parent\"><img src=\"https://colab.research.google.com/assets/colab-badge.svg\" alt=\"Open In Colab\"/></a>"
      ]
    },
    {
      "cell_type": "markdown",
      "source": [
        "Q1.What is a probability distribution, exactly? If the values are meant to be random, how can you predict them at all?\n",
        "\n",
        "A probability distribution is a statistical function that describes all the possible values and likelihoods that a random variable can take within a given range.These factors include the distribution's mean (average), standard deviation, skewness, and kurtosis.\n",
        "\n",
        "Step 1: List all simple events in sample space.\n",
        "\n",
        "Step 2: Find probability for each simple event.\n",
        "\n",
        "Step 3: List possible values for random variable X and identify the value for each simple event. Step 4: Find all simple events for which X = k, for each possible value k."
      ],
      "metadata": {
        "id": "PsW7vTyE-6V8"
      }
    },
    {
      "cell_type": "markdown",
      "source": [
        "Q2.Is there a distinction between true random numbers and pseudo-random numbers, if there is one? Why are the latter considered “good enough”?\n",
        "\n",
        "The difference between true random number generators(TRNGs) and pseudo-random number generators(PRNGs) is that TRNGs use an unpredictable physical means to generate numbers (like atmospheric noise), and PRNGs use mathematical algorithms (completely computer-generated).\n",
        "\n",
        "The difference between PRNG and TRNG is deterministic, PRNG is a deterministic random number generator, and TRNG is a non-deterministic random number generator. PRNG generates a long-length random number using algo- rithms based on a short initial value\n",
        "\n"
      ],
      "metadata": {
        "id": "L9cD-a1p_VoB"
      }
    },
    {
      "cell_type": "markdown",
      "source": [
        "Q3.What are the two main factors that influence the behaviour of a normal probability distribution?\n",
        "\n",
        "The mean, mode and median are all equal. The curve is symmetric at the center (i.e. around the mean, μ). Exactly half of the values are to the left of center and exactly half the values are to the right. The total area under the curve is 1.\n"
      ],
      "metadata": {
        "id": "32FW-hoT_jEi"
      }
    },
    {
      "cell_type": "markdown",
      "source": [
        "Q4.Provide a real-life example of a normal distribution.\n",
        "\n",
        "A fair rolling of dice is also a good example of normal distribution. In an experiment, it has been found that when a dice is rolled 100 times, chances to get '1' are 15-18% and if we roll the dice 1000 times, the chances to get '1' is, again, the same, which averages to 16.7% (1/6)."
      ],
      "metadata": {
        "id": "widFSmQj_xcp"
      }
    },
    {
      "cell_type": "markdown",
      "source": [
        "Q5. In the short term, how can you expect a probability distribution to behave? What do you think will happen as the number of trials grows?\n",
        "\n",
        "The probability distribution of a discrete random variable can always be represented by a table. For example, suppose you flip a coin two times. This simple exercise can have four possible outcomes: HH, HT, TH, and TT. Now, let the variable X represent the number of heads that result from the coin flips."
      ],
      "metadata": {
        "id": "fK9c0gF9DeGQ"
      }
    },
    {
      "cell_type": "markdown",
      "source": [
        "Q6.What kind of object can be shuffled by using random.shuffle?\n",
        "\n",
        "To randomly shuffle elements of lists ( list ), strings ( str ) and tuples ( tuple ) in Python, use the random module. random provides shuffle() that shuffles the original list in place, and sample() that returns a new list that is randomly shuffled. sample() can also be used for strings and tuples."
      ],
      "metadata": {
        "id": "mPtp5DlODlOI"
      }
    },
    {
      "cell_type": "markdown",
      "source": [
        "Q7.Describe the math package's general categories of functions.\n",
        "\n",
        "Functions are classified by the type of mathematical equation which represents their relationship. Some functions are algebraic. Other functions like f(x) = sin x, deal with angles and are known as trigonometric. Still other functions have logarithmic and exponential relationships and are classified as such."
      ],
      "metadata": {
        "id": "i9iD7QxMDuD3"
      }
    },
    {
      "cell_type": "markdown",
      "source": [
        "Q8.What is the relationship between exponentiation and logarithms?\n",
        "\n",
        "In its simplest form, a logarithm is an exponent. Taking the logarithm of a number, one finds the exponent to which a certain value, known as a base, is raised to produce that number once more."
      ],
      "metadata": {
        "id": "MGa4KmLbD9ex"
      }
    },
    {
      "cell_type": "markdown",
      "source": [
        "Q9.What are the three logarithmic functions that Python supports?\n",
        "\n",
        "log() in Python. The numpy. log() is a mathematical function that helps user to calculate Natural logarithm of x where x belongs to all the input array elements. Natural logarithm log is the inverse of the exp(), so that log(exp(x)) = x."
      ],
      "metadata": {
        "id": "OnordDi0EIuv"
      }
    }
  ]
}