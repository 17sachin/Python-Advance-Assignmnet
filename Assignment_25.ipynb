{
  "nbformat": 4,
  "nbformat_minor": 0,
  "metadata": {
    "colab": {
      "name": "Assignment_25.ipynb",
      "provenance": [],
      "collapsed_sections": [],
      "authorship_tag": "ABX9TyPfvIXkVOy/3ci3Ci6bsUTF",
      "include_colab_link": true
    },
    "kernelspec": {
      "name": "python3",
      "display_name": "Python 3"
    },
    "language_info": {
      "name": "python"
    }
  },
  "cells": [
    {
      "cell_type": "markdown",
      "metadata": {
        "id": "view-in-github",
        "colab_type": "text"
      },
      "source": [
        "<a href=\"https://colab.research.google.com/github/17sachin/Python-Advance-Assignmnet/blob/main/Assignment_25.ipynb\" target=\"_parent\"><img src=\"https://colab.research.google.com/assets/colab-badge.svg\" alt=\"Open In Colab\"/></a>"
      ]
    },
    {
      "cell_type": "markdown",
      "source": [
        "Q1.What is the distinction between a numpy array and a pandas data frame? Is there a way to convert between the two if there is?\n",
        "\n",
        "The essential difference is the presence of the index: while the Numpy Array has an implicitly defined integer index used to access the values, the Pandas Series has an explicitly defined index associated with the values.\n",
        "\n",
        "Step 1 − Divide the decimal number to be converted by the value of the new base. Step 2 − Get the remainder from Step 1 as the rightmost digit (least significant digit) of new base number. Step 3 − Divide the quotient of the previous divide by the new base."
      ],
      "metadata": {
        "id": "zXvppEKUMHgs"
      }
    },
    {
      "cell_type": "markdown",
      "source": [
        "Q2.What can go wrong when an user enters in a stock-ticker symbol, and how do you handle it?\n",
        "\n",
        "A stock symbol is an arrangement of characters—usually letters—representing publicly-traded securities on an exchange. When a company issues securities to the public marketplace, it selects an available symbol for its shares, often related to the company name. Investors and traders use the symbol to place trade orders."
      ],
      "metadata": {
        "id": "aueB35u6MVn5"
      }
    },
    {
      "cell_type": "markdown",
      "source": [
        "Q3.Identify some of the plotting techniques that are used to produce a stock-market chart.\n",
        "\n",
        "The four types that are most common are—line chart, bar chart, point and figure chart and candlestick chart."
      ],
      "metadata": {
        "id": "Q79AdvQrMj1k"
      }
    },
    {
      "cell_type": "markdown",
      "source": [
        "Q4.Why is it essential to print a legend on a stock market chart?\n",
        "\n",
        "For investors, the stock chart is the tool that separates the novice from the MarketSmith. Stock charts record price and volume history to help you determine whether the stock is appreciating or depreciating in value. But skilled chart readers can determine much more by learning how to read stock charts."
      ],
      "metadata": {
        "id": "MYb1k2xoM2RD"
      }
    },
    {
      "cell_type": "markdown",
      "source": [
        "Q5.What is the best way to limit the length of a pandas data frame to less than a year?\n",
        "\n",
        "Pandas DataFrames are usually kept in memory once they are loaded. Therefore, we will sometimes need to reduce the DataFrame size in order to load it in the memory and work with that DataFrame.\n",
        "\n",
        "In line 1, we import the required package.\n",
        "\n",
        "In line 3, we read the data in a DataFrame and name it drinks.\n",
        "\n",
        "In line 4, we print the memory usage of our DataFrame drinks. We can see that it currently uses 30.4 KB."
      ],
      "metadata": {
        "id": "5n9ncYmvNBWS"
      }
    },
    {
      "cell_type": "markdown",
      "source": [
        "Q6.What is the definition of a 180-day moving average?\n",
        "\n",
        "A stock that is trading below its 180 Day Moving Average is considered to be in a long term downtrend, whereas a stock that is trading above its 180 Day Moving Average is in a long term uptrend."
      ],
      "metadata": {
        "id": "FgsOyAe2NZI7"
      }
    },
    {
      "cell_type": "markdown",
      "source": [
        "Q7.Did the chapter's final example use indirect importing? If so, how exactly do you do it?"
      ],
      "metadata": {
        "id": "afTB2-8dNj9F"
      }
    }
  ]
}