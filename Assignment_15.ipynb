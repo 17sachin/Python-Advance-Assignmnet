{
  "nbformat": 4,
  "nbformat_minor": 0,
  "metadata": {
    "colab": {
      "name": "Assignment_15.ipynb",
      "provenance": [],
      "collapsed_sections": [],
      "authorship_tag": "ABX9TyN8b80pTFO8iy7BtMm23RtE",
      "include_colab_link": true
    },
    "kernelspec": {
      "name": "python3",
      "display_name": "Python 3"
    },
    "language_info": {
      "name": "python"
    }
  },
  "cells": [
    {
      "cell_type": "markdown",
      "metadata": {
        "id": "view-in-github",
        "colab_type": "text"
      },
      "source": [
        "<a href=\"https://colab.research.google.com/github/17sachin/Python-Advance-Assignmnet/blob/main/Assignment_15.ipynb\" target=\"_parent\"><img src=\"https://colab.research.google.com/assets/colab-badge.svg\" alt=\"Open In Colab\"/></a>"
      ]
    },
    {
      "cell_type": "markdown",
      "source": [
        "1.What are the new features added in Python 3.8 version?\n",
        "\n",
        "(Assignment Expressions) – The walrus operator (:=)\n",
        "\n",
        "(Positional only arguments)\n",
        "\n",
        "Implicit Namespace Packages.\n",
        "\n",
        "Flexible String Representation.\n",
        "\n",
        "Reworking the OS and IO exception hierarchy.\n"
      ],
      "metadata": {
        "id": "xrAdNcgwN0xa"
      }
    },
    {
      "cell_type": "markdown",
      "source": [
        "2.What is monkey patching in Python?\n",
        "\n",
        "In Python, the term monkey patch refers to dynamic (or run-time) modifications of a class or module. In Python, we can actually change the behavior of code at run-time. We use above module (monk) in below code and change behavior of func() at run-time by assigning different value"
      ],
      "metadata": {
        "id": "yl6jd3wVOZK9"
      }
    },
    {
      "cell_type": "markdown",
      "source": [
        "3.What is the difference between a shallow copy and deep copy?\n",
        "\n",
        "A shallow copy constructs a new compound object and then (to the extent possible) inserts references into it to the objects found in the original. A deep copy constructs a new compound object and then, recursively, inserts copies into it of the objects found in the original.\n",
        "\n"
      ],
      "metadata": {
        "id": "viAX8MExOjjg"
      }
    },
    {
      "cell_type": "markdown",
      "source": [
        "4.What is the maximum possible length of an identifier?\n",
        "\n",
        "In Python, the highest possible length of an identifier is 79 characters.\n"
      ],
      "metadata": {
        "id": "ubn2PCqmOs1o"
      }
    },
    {
      "cell_type": "markdown",
      "source": [
        "5.What is generator comprehension?\n",
        "\n",
        "A generator comprehension is a single-line specification for defining a generator in Python. It is absolutely essential to learn this syntax in order to write simple and readable code. Note: Generator comprehensions are not the only method for defining generators in Python."
      ],
      "metadata": {
        "id": "saxTQnH6O09h"
      }
    }
  ]
}