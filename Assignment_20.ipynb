{
  "nbformat": 4,
  "nbformat_minor": 0,
  "metadata": {
    "colab": {
      "name": "Assignment_20.ipynb",
      "provenance": [],
      "collapsed_sections": [],
      "authorship_tag": "ABX9TyOqSdRhGttGx58B6jyJLaj7",
      "include_colab_link": true
    },
    "kernelspec": {
      "name": "python3",
      "display_name": "Python 3"
    },
    "language_info": {
      "name": "python"
    }
  },
  "cells": [
    {
      "cell_type": "markdown",
      "metadata": {
        "id": "view-in-github",
        "colab_type": "text"
      },
      "source": [
        "<a href=\"https://colab.research.google.com/github/17sachin/Python-Advance-Assignmnet/blob/main/Assignment_20.ipynb\" target=\"_parent\"><img src=\"https://colab.research.google.com/assets/colab-badge.svg\" alt=\"Open In Colab\"/></a>"
      ]
    },
    {
      "cell_type": "markdown",
      "source": [
        "1.Compare and contrast the float and Decimal classes&#39; benefits and drawbacks.\n",
        "\n",
        "Float stores an approximate value and decimal stores an exact value. In summary, exact values like money should use decimal, and approximate values like scientific measurements should use float. When multiplying a non integer and dividing by that same number, decimals lose precision while floats do not."
      ],
      "metadata": {
        "id": "u48BQiAlTAfU"
      }
    },
    {
      "cell_type": "markdown",
      "source": [
        "2.Decimal(1.200) and Decimal('1.2) are two objects to consider. In what sense are these the same object? Are these just two ways of representing the exact same value, or do they correspond to different internal states?"
      ],
      "metadata": {
        "id": "lIEMIdWxTJk8"
      }
    },
    {
      "cell_type": "markdown",
      "source": [
        "3.What happens if the equality of Decimal('1.200') and Decimal('1.2') is checked?"
      ],
      "metadata": {
        "id": "TRztes3cTa0s"
      }
    },
    {
      "cell_type": "markdown",
      "source": [
        "4.Why is it preferable to start a Decimal object with a string rather than a floating-point value?\n",
        "\n",
        "Decimals can suffer from their own precision issues, but generally, decimals are more precise than floats. The performance difference between float and decimal, with Python 3, is not outlandish, and in my experience, the precision benefits of a decimal outweigh the performance benefits of a float.The main reason to transfer numeric values in JSON as strings is to eliminate any loss of precision or ambiguity in transfer.\n"
      ],
      "metadata": {
        "id": "4-xz0aohTsM9"
      }
    },
    {
      "cell_type": "markdown",
      "source": [
        "5.In an arithmetic phrase, how simple is it to combine Decimal objects with integers?\n",
        "\n",
        "Decimal “is based on a floating-point model which was designed with people in mind, and necessarily has a paramount guiding principle – computers must provide an arithmetic that works in the same way as the arithmetic that people learn at school.” – excerpt from the decimal arithmetic specification."
      ],
      "metadata": {
        "id": "4Y3OmF_0T1H8"
      }
    },
    {
      "cell_type": "markdown",
      "source": [
        "6.Can Decimal objects and floating-point values be combined easily?\n",
        "\n",
        "Decimal objects cannot generally be combined with floats or instances of fractions."
      ],
      "metadata": {
        "id": "ed-_OQ6uUD0P"
      }
    },
    {
      "cell_type": "markdown",
      "source": [
        "7.Using the Fraction class but not the Decimal class, give an example of a quantity that can be expressed with absolute precision."
      ],
      "metadata": {
        "id": "ZcWLxGMKUMxF"
      }
    },
    {
      "cell_type": "markdown",
      "source": [
        "8.Describe a quantity that can be accurately expressed by the Decimal or Fraction classes but not by a floating-point value.\n",
        "\n",
        "Depending on base and the number of bits used to encode various components, the IEEE 754 standard defines five basic formats. Among the five formats, the binary32 and the binary64 formats are single precision and double precision formats respectively in which the base is 2. "
      ],
      "metadata": {
        "id": "-Z9vi03pUbj1"
      }
    },
    {
      "cell_type": "markdown",
      "source": [
        "Q9.Consider the following two fraction objects: Fraction(1, 2) and Fraction(1, 2). (5, 10). Is the internal state of these two objects the same? Why do you think that is?"
      ],
      "metadata": {
        "id": "wXkRvOGgUtvX"
      }
    },
    {
      "cell_type": "markdown",
      "source": [
        "Q10. How do the Fraction class and the integer type (int) relate to each other? Containment or inheritance?\n",
        "\n",
        "To create a Fraction object, we will need to provide two pieces of data, the numerator and the denominator. In Python, the constructor method is always called __init__ (two underscores before and after init ) and is shown in Listing 2. Notice that the formal parameter list contains three items."
      ],
      "metadata": {
        "id": "OrEYZ7lTU_4E"
      }
    }
  ]
}