{
  "nbformat": 4,
  "nbformat_minor": 0,
  "metadata": {
    "colab": {
      "name": "Assignment_5.ipynb",
      "provenance": [],
      "collapsed_sections": [],
      "authorship_tag": "ABX9TyOpB2hL4tJ4b8OWp4K+BnOW",
      "include_colab_link": true
    },
    "kernelspec": {
      "name": "python3",
      "display_name": "Python 3"
    },
    "language_info": {
      "name": "python"
    }
  },
  "cells": [
    {
      "cell_type": "markdown",
      "metadata": {
        "id": "view-in-github",
        "colab_type": "text"
      },
      "source": [
        "<a href=\"https://colab.research.google.com/github/17sachin/Python-Advance-Assignmnet/blob/main/Assignment_5.ipynb\" target=\"_parent\"><img src=\"https://colab.research.google.com/assets/colab-badge.svg\" alt=\"Open In Colab\"/></a>"
      ]
    },
    {
      "cell_type": "markdown",
      "source": [
        "Q1.What is the meaning of multiple inheritance?\n",
        "\n",
        "Multiple Inheritance is a feature of an object-oriented concept, where a class can inherit properties of more than one parent class. The problem occurs when there exist methods with the same signature in both the superclasses and subclass.\n",
        "multiple inheritance has symmetrical merging and asymmetric extension from an inheritance perspective."
      ],
      "metadata": {
        "id": "GQ1tJONoiUk8"
      }
    },
    {
      "cell_type": "markdown",
      "source": [
        "Q2.What is the concept of delegation?\n",
        "\n",
        "Delegation allows the behavior of an object to be defined in terms of the behavior of another object.\n",
        "Delegation is alternative to class inheritance. Delegation is a way of making object composition as powerful as inheritance. In delegation, two objects are involved in handling a request: a receiving object delegates operations to its delegate. this is analogous to the child classes sending requests to the parent classes."
      ],
      "metadata": {
        "id": "wucpgfeFiwwu"
      }
    },
    {
      "cell_type": "markdown",
      "source": [
        "Q3.What is the concept of composition?\n",
        "\n",
        "Composition is one of the fundamental concepts in object-oriented programming. It describes a class that references one or more objects of other classes in instance variables. "
      ],
      "metadata": {
        "id": "pjRwqIKtjTvS"
      }
    },
    {
      "cell_type": "markdown",
      "source": [
        "Q4.What are bound methods and how do we use them?\n",
        "\n",
        "If a function is an attribute of class and it is accessed via the instances, they are called bound methods. A bound method is one that has ‘self‘ as its first argument. Since these are dependent on the instance of classes, these are also known as instance methods."
      ],
      "metadata": {
        "id": "oP7WfmmSjpip"
      }
    },
    {
      "cell_type": "markdown",
      "source": [
        "Q5.What is the purpose of pseudoprivate attributes?\n",
        "\n",
        "Pseudoprivate attributes are useful in larger frameworks or tools, both to avoid introducing new method names that might accidentally hide definitions elsewhere in the class tree . It is also used to reduce the chance of internal methods being replaced by names defined lower in the tree."
      ],
      "metadata": {
        "id": "FuwLNU57kGeC"
      }
    }
  ]
}