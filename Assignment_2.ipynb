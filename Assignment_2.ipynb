{
  "nbformat": 4,
  "nbformat_minor": 0,
  "metadata": {
    "colab": {
      "name": "Assignment_2.ipynb",
      "provenance": [],
      "collapsed_sections": [],
      "authorship_tag": "ABX9TyOml/1NE9pNdyCCriv5oQKn",
      "include_colab_link": true
    },
    "kernelspec": {
      "name": "python3",
      "display_name": "Python 3"
    },
    "language_info": {
      "name": "python"
    }
  },
  "cells": [
    {
      "cell_type": "markdown",
      "metadata": {
        "id": "view-in-github",
        "colab_type": "text"
      },
      "source": [
        "<a href=\"https://colab.research.google.com/github/17sachin/Python-Advance-Assignmnet/blob/main/Assignment_2.ipynb\" target=\"_parent\"><img src=\"https://colab.research.google.com/assets/colab-badge.svg\" alt=\"Open In Colab\"/></a>"
      ]
    },
    {
      "cell_type": "markdown",
      "source": [
        "Q1.What is the relationship between classes and modules?\n",
        "\n",
        "Classes are about objects, Modules are about functions. For example, authentication and authorization systems are good examples of modules.\n",
        "\n",
        "Modules are collections of methods and constants.They cannot generate instances.\n",
        "\n",
        "Classes may generate instances and have per-instance state.\n",
        "\n"
      ],
      "metadata": {
        "id": "JuyzxqCSmx7J"
      }
    },
    {
      "cell_type": "markdown",
      "source": [
        "Q2.How do you make instances and classes?\n",
        "\n",
        "A class is a blueprint which is used to create objects. An object is an instance of a class - it's a concrete 'thing' that is created using a specific class. So, 'object' and 'instance' are the same thing, but the word 'instance' indicates the relationship of an object to its class."
      ],
      "metadata": {
        "id": "pLIPkOT0nS4U"
      }
    },
    {
      "cell_type": "markdown",
      "source": [
        "Q3.Where and how should be class attributes created?\n",
        "\n",
        "Class attribute is defined directly inside a class.It is shared across all objects.\n",
        "\n",
        "Accessed using class name as well as using object with dot notation,e.g. classname.class_attribute or object.class_attribute"
      ],
      "metadata": {
        "id": "jxUloxTdnzWl"
      }
    },
    {
      "cell_type": "markdown",
      "source": [
        "Q4.Where and how are instance attributes created?\n",
        "\n",
        "An instance attribute in Python variable belongs to only one object. It is only accessible in the scope of the object and it is defined inside the constructor function of a class. For example, __init__(self,..)."
      ],
      "metadata": {
        "id": "WZCKpd9Kodxm"
      }
    },
    {
      "cell_type": "markdown",
      "source": [
        "Q5.What does the term Self in a Python class mean?\n",
        "\n",
        "Self represents the instance of the class. By using the “self” keyword we can access the attributes and methods of the class in python. It binds the attributes with the given arguments.\n",
        "\n",
        "\n"
      ],
      "metadata": {
        "id": "bpVIw4hWpJL-"
      }
    },
    {
      "cell_type": "markdown",
      "source": [
        "Q6.How does a Python class handle operator overloading?\n",
        "\n",
        "To perform operator overloading, Python provides some special function that is automatically invoked when it is associated with that particular operator. For example, when we use + operator, the magic method __add__ is automatically invoked in which the operation for + operator is defined."
      ],
      "metadata": {
        "id": "6ECEagjFrk62"
      }
    },
    {
      "cell_type": "markdown",
      "source": [
        "Q7.When do you consider allowing operator overloading of your classes?\n",
        "\n",
        "Consider that we have two objects which are a physical representation of a class (user-defined data type) and we have to add two objects with binary ‘+’ operator it throws an error, because compiler don’t know how to add two objects. So we define a method for an operator and that process is called operator overloading."
      ],
      "metadata": {
        "id": "DVNO06LnsHk0"
      }
    },
    {
      "cell_type": "markdown",
      "source": [
        "Q8.What is the most popular form of operator overloading?\n",
        "\n",
        "A very popular and convenient example is the Addition (+) operator.The '+' operator operates on two numbers and the same operator operates on two strings. It performs “Addition” on numbers whereas it performs “Concatenation” on strings."
      ],
      "metadata": {
        "id": "lNEGb8UhsjkC"
      }
    },
    {
      "cell_type": "markdown",
      "source": [
        "Q9.What are the two most important concepts to grasp in order to comprehend Python OOP code?\n",
        "\n",
        "Inheritance and polymorphism are two most important concepts to grasp in order to comprehend Python OOP code. \n"
      ],
      "metadata": {
        "id": "w0xjwzdFtDLL"
      }
    }
  ]
}