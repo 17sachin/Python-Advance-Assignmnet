{
  "nbformat": 4,
  "nbformat_minor": 0,
  "metadata": {
    "colab": {
      "name": "Assignment_13.ipynb",
      "provenance": [],
      "authorship_tag": "ABX9TyOcCQQk0e3M75t763UP3WzY",
      "include_colab_link": true
    },
    "kernelspec": {
      "name": "python3",
      "display_name": "Python 3"
    },
    "language_info": {
      "name": "python"
    }
  },
  "cells": [
    {
      "cell_type": "markdown",
      "metadata": {
        "id": "view-in-github",
        "colab_type": "text"
      },
      "source": [
        "<a href=\"https://colab.research.google.com/github/17sachin/Python-Advance-Assignmnet/blob/main/Assignment_13.ipynb\" target=\"_parent\"><img src=\"https://colab.research.google.com/assets/colab-badge.svg\" alt=\"Open In Colab\"/></a>"
      ]
    },
    {
      "cell_type": "markdown",
      "source": [
        "Q1. Can you create a programme or function that employs both positive and negative indexing? Is there any repercussion if you do so?\n",
        "\n",
        "We can access the elements of an array by going through their indexes. But no programming language allows us to use a negative index value such as -4. Python programming language supports negative indexing of arrays, something which is not available in arrays in most other programming languages. This means that the index value of -1 gives the last element, and -2 gives the second last element of an array. The negative indexing starts from where the array ends. This means that the last element of the array is the first element in the negative indexing which is -1.\n",
        "\n",
        "Example:\n",
        "arr = [10, 20, 30, 40, 50]\n",
        "print (arr[-1])\n",
        "print (arr[-2])\n",
        "\n",
        "Output:\n",
        "50\n",
        "40"
      ],
      "metadata": {
        "id": "bRuUXn7JFejL"
      }
    },
    {
      "cell_type": "markdown",
      "source": [
        "Q2. What is the most effective way of starting with 1,000 elements in a Python list? Assume that all elements should be set to the same value.\n",
        "\n",
        "\n"
      ],
      "metadata": {
        "id": "rnJO8XJWFsYP"
      }
    },
    {
      "cell_type": "markdown",
      "source": [
        "Q3. How do you slice a list to get any other part while missing the rest? (For example, suppose you want to make a new list with the elements first, third, fifth, seventh, and so on.)\n",
        "\n"
      ],
      "metadata": {
        "id": "EV1qNjoVGPjy"
      }
    },
    {
      "cell_type": "markdown",
      "source": [
        "Q4. Explain the distinctions between indexing and slicing.\n",
        "\n",
        "“Indexing” means referring to an element of an iterable by its position within the iterable. “Slicing” means getting a subset of elements from an iterable based on their indices."
      ],
      "metadata": {
        "id": "4bXDZ8CDGbEq"
      }
    },
    {
      "cell_type": "markdown",
      "source": [
        "Q5.What happens if one of the slicing expression's indexes is out of range?\n",
        "\n",
        "It simply returns an empty sequence."
      ],
      "metadata": {
        "id": "dx0Aou2bGgBa"
      }
    },
    {
      "cell_type": "markdown",
      "source": [
        "Q6. If you pass a list to a function, and if you want the function to be able to change the values of the list—so that the list is different after the function returns—what action should you avoid?\n",
        "\n",
        "Reassigning a variable inside a function won't change the variable you passed as an argument outside the function. Performing mutable operations on the variable, however, will change it.\n"
      ],
      "metadata": {
        "id": "Jj91od5iG5QC"
      }
    },
    {
      "cell_type": "markdown",
      "source": [
        "Q7.What is the concept of an unbalanced matrix?\n",
        "\n",
        "Whenever the cost matrix of an assignment problem is not a square matrix, that is, whenever the number of sources is not equal to the number of destinations, the assignment problem is called an unbalanced assignment problem."
      ],
      "metadata": {
        "id": "stXOQb8JHH75"
      }
    },
    {
      "cell_type": "markdown",
      "source": [
        "Q8. Why is it necessary to use either list comprehension or a loop to create arbitrarily large matrices?\n",
        "\n",
        "The main difference between for-loop and comprehension is about performance and speed. The speed of list comprehension is notably better than for-loop because it doesn't need to load the append attribute of the list and call it as a function"
      ],
      "metadata": {
        "id": "PhP6alxhHT9S"
      }
    }
  ]
}