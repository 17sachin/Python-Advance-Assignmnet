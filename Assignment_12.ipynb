{
  "nbformat": 4,
  "nbformat_minor": 0,
  "metadata": {
    "colab": {
      "name": "Assignment_12.ipynb",
      "provenance": [],
      "collapsed_sections": [],
      "authorship_tag": "ABX9TyOJu0XAdDiG7Nt9ulBbWRxS",
      "include_colab_link": true
    },
    "kernelspec": {
      "name": "python3",
      "display_name": "Python 3"
    },
    "language_info": {
      "name": "python"
    }
  },
  "cells": [
    {
      "cell_type": "markdown",
      "metadata": {
        "id": "view-in-github",
        "colab_type": "text"
      },
      "source": [
        "<a href=\"https://colab.research.google.com/github/17sachin/Python-Advance-Assignmnet/blob/main/Assignment_12.ipynb\" target=\"_parent\"><img src=\"https://colab.research.google.com/assets/colab-badge.svg\" alt=\"Open In Colab\"/></a>"
      ]
    },
    {
      "cell_type": "markdown",
      "source": [
        "Q1.Does assigning a value to a string's indexed character violate Python's string immutability?\n",
        "\n",
        "Yes, Because String are immutable."
      ],
      "metadata": {
        "id": "NzA94ftqPIZf"
      }
    },
    {
      "cell_type": "markdown",
      "source": [
        "Q2. Does using the += operator to concatenate strings violate Python's string immutability? Why or why not?\n",
        "\n",
        "Concatenation of strings have the disadvantage of needing to create a new string and allocate new memory for every concatenation! This is time consuming, but isn't that big of a deal with few and small strings. \n",
        "\n",
        "When joining strings Python only has to allocate new memory for the final string, which is much more efficient, but could take longer to compute. Also, because strings are immutable it's often more practical to use a list of strings to dynamically mutate, and only convert it to a string when needed"
      ],
      "metadata": {
        "id": "dIBviOj0PYXr"
      }
    },
    {
      "cell_type": "markdown",
      "source": [
        "Q3.In Python, how many different ways are there to index a character?\n",
        "\n",
        "We can access characters in a String in Two ways : Accessing Characters by Positive Index Number. Accessing Characters by Negative Index Number."
      ],
      "metadata": {
        "id": "__0YWwmkP4Bc"
      }
    },
    {
      "cell_type": "markdown",
      "source": [
        "Q4.What is the relationship between indexing and slicing?\n",
        "\n",
        "Indexing means referring to an element of an iterable by its position within the iterable. “Slicing” means getting a subset of elements from an iterable based on their indices"
      ],
      "metadata": {
        "id": "iv6fYuklrHdB"
      }
    },
    {
      "cell_type": "markdown",
      "source": [
        "Q5. What is an indexed character's exact data type? What is the data form of a slicing-generated substring?\n",
        "\n",
        "String is the exact data type.\n",
        "\n",
        "String is the data from .\n"
      ],
      "metadata": {
        "id": "pObipdicrh0N"
      }
    },
    {
      "cell_type": "markdown",
      "source": [
        "Q6.What is the relationship between string and character types in Python?\n",
        "\n",
        "In Python, Strings are arrays of bytes representing Unicode characters. However, Python does not have a character data type, a single character is simply a string with a length of 1. Square brackets can be used to access elements of the string"
      ],
      "metadata": {
        "id": "AuJQ03YxCDH3"
      }
    },
    {
      "cell_type": "markdown",
      "source": [
        "Q7. Identify at least two operators and one method that allow you to combine one or more smaller strings to create a larger string.\n",
        "\n",
        "The + operator and join opeartor is the most common way to concatenate two strings.\n",
        "\n",
        "Using the concat() method − The concat() method of the String class accepts a String value, adds it to the current String and returns the concatenated value.\n"
      ],
      "metadata": {
        "id": "dirHPfxZCqHf"
      }
    },
    {
      "cell_type": "markdown",
      "source": [
        "Q8. What is the benefit of first checking the target string with in or not in before using the index method to find a substring?\n",
        "\n"
      ],
      "metadata": {
        "id": "M8vOxe2XDbf-"
      }
    },
    {
      "cell_type": "markdown",
      "source": [
        "Q9. Which operators and built-in string methods produce simple Boolean (true/false) results?\n",
        "\n",
        "Except for and and or , they are rarely needed in practice. Because of this, True , False , not , and , and or are the only built-in Python Boolean operators.\n"
      ],
      "metadata": {
        "id": "z7lgGsZeDyWs"
      }
    }
  ]
}