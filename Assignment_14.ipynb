{
  "nbformat": 4,
  "nbformat_minor": 0,
  "metadata": {
    "colab": {
      "name": "Assignment_14.ipynb",
      "provenance": [],
      "collapsed_sections": [],
      "authorship_tag": "ABX9TyOX3+QZtX8l6UhDP8uUOc7U",
      "include_colab_link": true
    },
    "kernelspec": {
      "name": "python3",
      "display_name": "Python 3"
    },
    "language_info": {
      "name": "python"
    }
  },
  "cells": [
    {
      "cell_type": "markdown",
      "metadata": {
        "id": "view-in-github",
        "colab_type": "text"
      },
      "source": [
        "<a href=\"https://colab.research.google.com/github/17sachin/Python-Advance-Assignmnet/blob/main/Assignment_14.ipynb\" target=\"_parent\"><img src=\"https://colab.research.google.com/assets/colab-badge.svg\" alt=\"Open In Colab\"/></a>"
      ]
    },
    {
      "cell_type": "markdown",
      "source": [
        "Q1.Is an assignment operator like += only for show? Is it possible that it would lead to faster results at the runtime?\n",
        "\n"
      ],
      "metadata": {
        "id": "budHwxB6HIGN"
      }
    },
    {
      "cell_type": "markdown",
      "source": [
        "Q2. What is the smallest number of statements you'd have to write in most programming languages to replace the Python expression a, b = a + b, a?\n",
        "\n"
      ],
      "metadata": {
        "id": "D9P4KVb4H5ag"
      }
    },
    {
      "cell_type": "markdown",
      "source": [
        "Q3. In Python, what is the most effective way to set a list of 100 integers to 0?\n",
        "\n",
        "In this case,simply use the list(range(0, 101)) function call\n"
      ],
      "metadata": {
        "id": "9uB3plhLIXEz"
      }
    },
    {
      "cell_type": "markdown",
      "source": [
        "Q4. What is the most effective way to initialise a list of 99 integers that repeats the sequence 1, 2, 3? If necessary, show step-by-step instructions on how to accomplish this.\n",
        "\n"
      ],
      "metadata": {
        "id": "QheOilJdIzTb"
      }
    },
    {
      "cell_type": "markdown",
      "source": [
        "Q5. If you're using IDLE to run a Python application, explain how to print a multidimensional list as efficiently?\n",
        "\n",
        "multlist = [[0 for columns in range(4)] for rows in range(3)]\n",
        "print(multlist)\n"
      ],
      "metadata": {
        "id": "ESLFf596JSDb"
      }
    },
    {
      "cell_type": "markdown",
      "source": [
        "Q6. Is it possible to use list comprehension with a string? If so, how can you go about doing it?\n",
        "\n",
        "List comprehension works with string lists also.\n",
        "\n",
        "h_letters = [ letter for letter in 'human' ]\n",
        "print( h_letters)\n",
        "\n",
        "In the above example, a new list is assigned to variable h_letters, and list contains the items of the iterable string 'human'. We call print() function to receive the output"
      ],
      "metadata": {
        "id": "w1nKPCUhJ95m"
      }
    },
    {
      "cell_type": "markdown",
      "source": [
        "Q7. From the command line, how do you get support with a user-written Python programme? Is this possible from inside IDLE?\n",
        "\n",
        "If no argument is given, the interactive help system starts on the interpreter console. If you want to get out of help console, type quit . We can also get the help documentation directly from the python console by passing a parameter to help() function."
      ],
      "metadata": {
        "id": "bOYt01pTKdmb"
      }
    },
    {
      "cell_type": "markdown",
      "source": [
        "Q8. Functions are said to be “first-class objects” in Python but not in most other languages, such as C++ or Java. What can you do in Python with a function (callable object) that you can&#39;t do in C or C++?\n",
        "\n",
        "  "
      ],
      "metadata": {
        "id": "Xb3fgal2Ktsy"
      }
    },
    {
      "cell_type": "markdown",
      "source": [
        "Q9. How do you distinguish between a wrapper, a wrapped feature, and a decorator?\n",
        "\n",
        "Decorators allow us to wrap another function in order to extend the behavior of the wrapped function, without permanently modifying it. In Decorators, functions are taken as the argument into another function and then called inside the wrapper function. Let's see the below examples for better understanding.\n",
        "\n",
        "“Wrapper” is the alternative nickname for the Decorator pattern that clearly expresses the main idea of the pattern. A wrapper is an object that can be linked with some target object. The wrapper contains the same set of methods as the target and delegates to it all requests it receives\n"
      ],
      "metadata": {
        "id": "j70vPYgQK3Ry"
      }
    },
    {
      "cell_type": "markdown",
      "source": [
        "Q10. If a function is a generator function, what does it return?\n",
        "\n",
        "A return statement in a generator, when executed, will make the generator finish (i.e. the done property of the object returned by it will be set to true ). If a value is returned, it will be set as the value property of the object returned by the generator."
      ],
      "metadata": {
        "id": "trY5XMWLLG6T"
      }
    },
    {
      "cell_type": "markdown",
      "source": [
        "Q11. What is the one improvement that must be made to a function in order for it to become a generator function in the Python language?\n",
        "\n",
        "Generator functions allow you to declare a function that behaves like an iterator. They allow programmers to make an iterator in a fast, easy, and clean way."
      ],
      "metadata": {
        "id": "aqavPyzYLRir"
      }
    },
    {
      "cell_type": "markdown",
      "source": [
        "Q12. Identify at least one benefit of generators.\n",
        "\n",
        "Memory efficient method of generating sequence types in python.\n",
        "\n",
        "Adds further brevity and readability to written code. Generator expressions are generator functions shortened.\n",
        "\n",
        "Time-efficient when compared to list comparisons."
      ],
      "metadata": {
        "id": "FeGZJUV8L5Xy"
      }
    }
  ]
}