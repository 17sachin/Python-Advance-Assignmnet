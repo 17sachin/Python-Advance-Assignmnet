{
  "nbformat": 4,
  "nbformat_minor": 0,
  "metadata": {
    "colab": {
      "name": "Assignment_11.ipynb",
      "provenance": [],
      "collapsed_sections": [],
      "authorship_tag": "ABX9TyPcgyTFzjTtvKxHNyvHXL2F",
      "include_colab_link": true
    },
    "kernelspec": {
      "name": "python3",
      "display_name": "Python 3"
    },
    "language_info": {
      "name": "python"
    }
  },
  "cells": [
    {
      "cell_type": "markdown",
      "metadata": {
        "id": "view-in-github",
        "colab_type": "text"
      },
      "source": [
        "<a href=\"https://colab.research.google.com/github/17sachin/Python-Advance-Assignmnet/blob/main/Assignment_11.ipynb\" target=\"_parent\"><img src=\"https://colab.research.google.com/assets/colab-badge.svg\" alt=\"Open In Colab\"/></a>"
      ]
    },
    {
      "cell_type": "markdown",
      "source": [
        "Q1.What is the concept of a metaclass?\n",
        "\n",
        "A metaclass in Python is a class of a class that defines how a class behaves. A class is itself an instance of a metaclass. A class in Python defines how the instance of the class will behave.\n",
        "\n"
      ],
      "metadata": {
        "id": "6u_dZGD_L5Wg"
      }
    },
    {
      "cell_type": "markdown",
      "source": [
        "Q2.What is the best way to declare a class's metaclass?\n",
        "\n",
        "class MyMeta(type): pass class MyClass(metaclass=MyMeta): pass class MySubclass(MyClass): pass.\n",
        "\n",
        "class MetaOne(type): def __new__(cls, name, bases, dict): pass class MetaTwo(type): def __init__(self, name, bases, dict): pass.\n",
        "\n"
      ],
      "metadata": {
        "id": "l-bryOb0MeGU"
      }
    },
    {
      "cell_type": "markdown",
      "source": [
        "Q3.How do class decorators overlap with metaclasses for handling classes?\n",
        "\n",
        "Decorators can be used to manage both instances and classes, and they intersect with metaclasses in the second of these roles.\n",
        "\n",
        "Just like with metaclasses, because the decorator returns the original class, instances are made from it, not from a wrapper object."
      ],
      "metadata": {
        "id": "MCyYMJJtNMJp"
      }
    },
    {
      "cell_type": "markdown",
      "source": [
        "Q4.How do class decorators overlap with metaclasses for handling instances?\n",
        "\n",
        "Decorators can be used to manage both instances and classes, and they intersect with metaclasses in the second of these roles.\n",
        "\n",
        "Just like with metaclasses, because the decorator returns the original class, instances are made from it, not from a wrapper object."
      ],
      "metadata": {
        "id": "dGWFcikNNq6n"
      }
    }
  ]
}