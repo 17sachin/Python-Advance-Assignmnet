{
  "nbformat": 4,
  "nbformat_minor": 0,
  "metadata": {
    "colab": {
      "name": "Assignment_22.ipynb",
      "provenance": [],
      "collapsed_sections": [],
      "authorship_tag": "ABX9TyPVpWXfhzhusY7mE2OVcmtE",
      "include_colab_link": true
    },
    "kernelspec": {
      "name": "python3",
      "display_name": "Python 3"
    },
    "language_info": {
      "name": "python"
    }
  },
  "cells": [
    {
      "cell_type": "markdown",
      "metadata": {
        "id": "view-in-github",
        "colab_type": "text"
      },
      "source": [
        "<a href=\"https://colab.research.google.com/github/17sachin/Python-Advance-Assignmnet/blob/main/Assignment_22.ipynb\" target=\"_parent\"><img src=\"https://colab.research.google.com/assets/colab-badge.svg\" alt=\"Open In Colab\"/></a>"
      ]
    },
    {
      "cell_type": "markdown",
      "source": [
        "Q1.What are the benefits of the built-in array package, if any?\n",
        "\n",
        "Although it is a little bit confusing, we always use List in Python just like the equivalent concept “Array” in most other programming languages. Or, you might say that Python does have “Array”, but it is from the NumPy library. ... Yes, neither the “List” nor NumPy “Array”, but Python built-in “Array”."
      ],
      "metadata": {
        "id": "wsdAMoTFEoEA"
      }
    },
    {
      "cell_type": "markdown",
      "source": [
        "Q2.What are some of the array package's limitations?\n",
        "\n",
        "Limitations\n",
        "\n",
        "An array which is formed will be homogeneous.\n",
        "While declaring an array, passing size of an array is compulsory, and the size must be a constant.\n",
        "Shifting is required for insertion or deletion of elements in an array.\n",
        "\n"
      ],
      "metadata": {
        "id": "DSh24IcLE1_F"
      }
    },
    {
      "cell_type": "markdown",
      "source": [
        "Q3.Describe the main differences between the array and numpy packages.\n",
        "\n",
        "Difference Between Python List and NumPy Array\n",
        "\n",
        "Both data types are mutable.\n",
        "\n",
        "Both can be indexed and can be used for slicing operations.\n",
        "\n",
        "A list cannot directly handle a mathematical operations, while array can.\n",
        "\n",
        "An array consumes less memory than a list.\n",
        "\n",
        "Using an array is faster than a list.\n",
        "\n",
        "A list is easier to modify."
      ],
      "metadata": {
        "id": "xM8o6SnWFF7n"
      }
    },
    {
      "cell_type": "markdown",
      "source": [
        "Q4.Explain the distinctions between the empty, ones, and zeros functions.\n",
        "\n",
        "Empty, unlike zeros, does not set the array values to zero, and may therefore be marginally faster. On the other hand, it requires the user to manually set all the values in the array, and should be used with caution."
      ],
      "metadata": {
        "id": "w0kVFLKhFVP3"
      }
    },
    {
      "cell_type": "markdown",
      "source": [
        "Q5. In the fromfunction function, which is used to construct new arrays, what is the role of the callable argument?\n",
        "\n",
        "fromfunction() function construct an array by executing a function over each coordinate and the resulting array, therefore, has a value fn(x, y, z) at coordinate (x, y, z). Parameters : function : [callable] The function is called with N parameters, where N is the rank of shape.\n"
      ],
      "metadata": {
        "id": "kaIjXVVPFgsR"
      }
    },
    {
      "cell_type": "markdown",
      "source": [
        "Q6. What happens when a numpy array is combined with a single-value operand (a scalar, such as an int or a floating-point value) through addition, as in the expression A + n?\n",
        "\n",
        "In this article, we will discuss different ways to add / append single element in a numpy array by using append() or concatenate() or insert() function. Use append() to add an element to Numpy Array. Use concatenate() to add an element to Numpy Array. Use insert() to add an element to Numpy Array.\n",
        "\n"
      ],
      "metadata": {
        "id": "q2SymWo8FyuH"
      }
    },
    {
      "cell_type": "markdown",
      "source": [
        "Q7. Can array-to-scalar operations use combined operation-assign operators (such as += or *=)? What is the outcome?\n",
        "\n"
      ],
      "metadata": {
        "id": "PY_ESdq0F_bX"
      }
    },
    {
      "cell_type": "markdown",
      "source": [
        "Q8. Does a numpy array contain fixed-length strings? What happens if you allocate a longer string to one of these arrays?\n",
        "\n",
        "NumPy arrays have a fixed size at creation, unlike Python lists (which can grow dynamically). Changing the size of an ndarray will create a new array and delete the original. The elements in a NumPy array are all required to be of the same data type, and thus will be the same size in memory."
      ],
      "metadata": {
        "id": "YiTFj9Q5GHHZ"
      }
    },
    {
      "cell_type": "markdown",
      "source": [
        "Q9. What happens when you combine two numpy arrays using an operation like addition (+) or multiplication (*)? What are the conditions for combining two numpy arrays?\n",
        "\n",
        "add() function is used when we want to compute the addition of two array. It add arguments element-wise. If shape of two arrays are not same, that is arr1.\n",
        "\n",
        "multiply() in Python. numpy. multiply() function is used when we want to compute the multiplication of two array. It returns the product of arr1 and arr2, element-wise."
      ],
      "metadata": {
        "id": "s_iF5kOiGSH_"
      }
    },
    {
      "cell_type": "markdown",
      "source": [
        "Q10. What is the best way to use a Boolean array to mask another array?\n",
        "\n",
        "Using masked_where() function: Pass the two array in the function as a parameter then use numpy. ma. masked_where() function in which pass the condition for masking and array to be masked.\n",
        "Using masked_where(), getmask() and masked_array() function: Pass the two array in the function as a parameter then use numpy. ma."
      ],
      "metadata": {
        "id": "wyxGSNoYGfEX"
      }
    },
    {
      "cell_type": "markdown",
      "source": [
        "Q11. What are three different ways to get the standard deviation of a wide collection of data using both standard Python and its packages? Sort the three of them by how quickly they execute.\n",
        "\n",
        "To calculate the standard deviation of those numbers:\n",
        "Work out the Mean (the simple average of the numbers)\n",
        "Then for each number: subtract the Mean and square the result.\n",
        "Then work out the mean of those squared differences.\n",
        "Take the square root of that and we are done!\n",
        "\n",
        "\n"
      ],
      "metadata": {
        "id": "lqhbGJ5eGnJP"
      }
    },
    {
      "cell_type": "markdown",
      "source": [
        "12.What is the dimensionality of a Boolean mask-generated array?\n",
        "\n",
        "A masked array is the combination of a standard numpy.When an element of the mask is False , the corresponding element of the associated array is valid and is said to be unmasked. When an element of the mask is True , the corresponding element of the associated array is said to be masked (invalid)."
      ],
      "metadata": {
        "id": "tJtvbaMdG5o3"
      }
    }
  ]
}