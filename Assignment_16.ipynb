{
  "nbformat": 4,
  "nbformat_minor": 0,
  "metadata": {
    "colab": {
      "name": "Assignment_16.ipynb",
      "provenance": [],
      "collapsed_sections": [],
      "authorship_tag": "ABX9TyOLM8j3zl5/9uuZNAX722XS",
      "include_colab_link": true
    },
    "kernelspec": {
      "name": "python3",
      "display_name": "Python 3"
    },
    "language_info": {
      "name": "python"
    }
  },
  "cells": [
    {
      "cell_type": "markdown",
      "metadata": {
        "id": "view-in-github",
        "colab_type": "text"
      },
      "source": [
        "<a href=\"https://colab.research.google.com/github/17sachin/Python-Advance-Assignmnet/blob/main/Assignment_16.ipynb\" target=\"_parent\"><img src=\"https://colab.research.google.com/assets/colab-badge.svg\" alt=\"Open In Colab\"/></a>"
      ]
    },
    {
      "cell_type": "markdown",
      "source": [
        "Q1.What is the benefit of regular expressions?\n",
        "\n",
        "A regular expression is a specific pattern that provides concise and flexible means to match (specify and recognize) strings of text, such as particular characters, words, or patterns of characters. It can also be used to search for hex strings that represent non-ASCII characters."
      ],
      "metadata": {
        "id": "9qk2eLCWgUqU"
      }
    },
    {
      "cell_type": "markdown",
      "source": [
        "Q2. Describe the difference between the effects of '(ab)c' and 'a(bc)' Which of these, if any, is the unqualified pattern 'abc+'?\n",
        "\n",
        "he difference is in the operator precedence (order of operations) in both expressions. The result of the expression is evaluated on the basis of the different order. In the first expression, b * c is evaluated firstly, and in the second expression, the brackets facilitate the sum of a and b, followed by the multiplication by c. For example, if a = 2, b = 3, c = 4, the expressions will be evaluated as follows:\n",
        "\n",
        "a + b*c = 2 + 3*4 = 2 + 12 = 14\n",
        "\n",
        "(a + b) * c = (2 + 3) * 4 = 5 * 4 = 20\n"
      ],
      "metadata": {
        "id": "TIC9r9M2hEO5"
      }
    },
    {
      "cell_type": "markdown",
      "source": [
        "Q3.How much do you need to use the following sentence while using regular expressions?\n",
        "\n",
        "Regular expressions are patterns used to match character combinations in strings. In JavaScript, regular expressions are also objects. These patterns are used with the exec() and test() methods of RegExp , and with the match() , matchAll() , replace() , replaceAll() , search() , and split() methods of String "
      ],
      "metadata": {
        "id": "9dzM1Ky4hdVj"
      }
    },
    {
      "cell_type": "markdown",
      "source": [
        "Q4. Which characters have special significance in square brackets when expressing a range, and under what circumstances?\n",
        "\n",
        "Square brackets match something that you kind of don't know about a string you're looking for. If you are searching for a name in a string but you're not sure of the exact name you could use instead of that letter a square bracket. Everything you put inside these brackets are alternatives in place of one character."
      ],
      "metadata": {
        "id": "d86a6I1Xhorb"
      }
    },
    {
      "cell_type": "markdown",
      "source": [
        "Q5.How does compiling a regular-expression object benefit you?\n",
        "\n",
        "The re. compile() method\n",
        "We can combine a regular expression pattern into pattern objects, which can be used for pattern matching. It also helps to search a pattern again without rewriting it."
      ],
      "metadata": {
        "id": "9S3ROLfRhzN0"
      }
    },
    {
      "cell_type": "markdown",
      "source": [
        "Q6. What are some examples of how to use the match object returned by re.match and re.search?\n",
        "\n",
        "The re.search() and re.match() both are functions of re module in python. These functions are very efficient and fast for searching in strings. The function searches for some substring in a string and returns a match object if found, else it returns none.\n",
        "\n",
        "There is a difference between the use of both functions. Both return the first match of a substring found in the string, but re.match() searches only from the beginning of the string and return match object if found. But if a match of substring is found somewhere in the middle of the string, it returns none. \n",
        "While re.search() searches for the whole string even if the string contains multi-lines and tries to find a match of the substring in all the lines of string.\n"
      ],
      "metadata": {
        "id": "cLh0093mh-Fc"
      }
    },
    {
      "cell_type": "markdown",
      "source": [
        "Q7. What is the difference between using a vertical bar (|) as an alteration and using square brackets as a character set?\n",
        "\n",
        "The vertical bar is a regex \"or\" means \"a or b\" Character class is a shorthand for \"or\". From this explanation. If you want to match an a or an e use [ae] You can also use hyphen to specify a range such as [0-9] or [a-e]"
      ],
      "metadata": {
        "id": "OGqSL94ziNNb"
      }
    },
    {
      "cell_type": "markdown",
      "source": [
        "Q8. In regular-expression search patterns, why is it necessary to use the raw-string indicator (r)? In replacement strings?\n",
        "\n",
        "Regular expressions are frequently static strings, which are conveniently represented as string literals. And from the different string literal notations available, raw strings are a convenient choice, when the regular expression includes a backslash character."
      ],
      "metadata": {
        "id": "Fn71lJU1iXij"
      }
    }
  ]
}