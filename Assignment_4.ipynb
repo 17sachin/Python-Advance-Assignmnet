{
  "nbformat": 4,
  "nbformat_minor": 0,
  "metadata": {
    "colab": {
      "name": "Assignment_4.ipynb",
      "provenance": [],
      "collapsed_sections": [],
      "authorship_tag": "ABX9TyPh0N0f4aVLgTxliwolV8Dw",
      "include_colab_link": true
    },
    "kernelspec": {
      "name": "python3",
      "display_name": "Python 3"
    },
    "language_info": {
      "name": "python"
    }
  },
  "cells": [
    {
      "cell_type": "markdown",
      "metadata": {
        "id": "view-in-github",
        "colab_type": "text"
      },
      "source": [
        "<a href=\"https://colab.research.google.com/github/17sachin/Python-Advance-Assignmnet/blob/main/Assignment_4.ipynb\" target=\"_parent\"><img src=\"https://colab.research.google.com/assets/colab-badge.svg\" alt=\"Open In Colab\"/></a>"
      ]
    },
    {
      "cell_type": "markdown",
      "source": [
        "Q1.Which two operator overloading methods can you use in your classes to support iteration?\n",
        "\n",
        "The __init__() is one such method.\n",
        "Another magic method is the __str__() method."
      ],
      "metadata": {
        "id": "ATPSm1YfHXmJ"
      }
    },
    {
      "cell_type": "markdown",
      "source": [
        "Q2.In what contexts do the two operator overloading methods manage printing?\n",
        "\n"
      ],
      "metadata": {
        "id": "M5TLR9PTIW90"
      }
    },
    {
      "cell_type": "markdown",
      "source": [
        "Q3.In a class, how do you intercept slice operations?\n",
        "\n",
        "The slice() method returns a portion of an iterable as an object of the slice class based on the specified range. It can be used with string, list, tuple, set, bytes, or range objects or custom class object that implements sequence methods __getitem__() and __len__() methods.\n"
      ],
      "metadata": {
        "id": "KedMbYI8I-w6"
      }
    },
    {
      "cell_type": "markdown",
      "source": [
        "Q4.In a class, how do you capture in-place addition?\n",
        "\n",
        "iadd() :- This function is used to assign and add the current value.\n",
        "\n",
        "iconcat() :- This function is used to concat one string at end of second.\n",
        "\n",
        "isub() :- This function is used to assign and subtract the current value.\n",
        "\n",
        "imul() :- This function is used to assign and multiply the current value."
      ],
      "metadata": {
        "id": "obDZ2kebJXpi"
      }
    },
    {
      "cell_type": "markdown",
      "source": [
        "Q5.When is it appropriate to use operator overloading?\n",
        "\n",
        "It allows you to provide an intuitive interface to users of your class, plus makes it possible for templates to work equally well with classes and built-in/intrinsic types.\n",
        "\n",
        "The purpose of operator overloading is to provide a special meaning of an operator for a user-defined data type."
      ],
      "metadata": {
        "id": "yrAXhHuJKIHZ"
      }
    }
  ]
}