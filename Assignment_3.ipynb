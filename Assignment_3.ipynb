{
  "nbformat": 4,
  "nbformat_minor": 0,
  "metadata": {
    "colab": {
      "name": "Assignment_3.ipynb",
      "provenance": [],
      "collapsed_sections": [],
      "authorship_tag": "ABX9TyNro0l7YOeMgf4jrRLpO25L",
      "include_colab_link": true
    },
    "kernelspec": {
      "name": "python3",
      "display_name": "Python 3"
    },
    "language_info": {
      "name": "python"
    }
  },
  "cells": [
    {
      "cell_type": "markdown",
      "metadata": {
        "id": "view-in-github",
        "colab_type": "text"
      },
      "source": [
        "<a href=\"https://colab.research.google.com/github/17sachin/Python-Advance-Assignmnet/blob/main/Assignment_3.ipynb\" target=\"_parent\"><img src=\"https://colab.research.google.com/assets/colab-badge.svg\" alt=\"Open In Colab\"/></a>"
      ]
    },
    {
      "cell_type": "markdown",
      "source": [
        "1.What is the concept of an abstract superclass?\n",
        "\n",
        "Abstract Super Class- A common superclass for several subclasses. Factor up common behavior. Define the methods they all respond to. Methods that subclasses should implement are declared abstract.\n"
      ],
      "metadata": {
        "id": "FBbR074tuHUE"
      }
    },
    {
      "cell_type": "markdown",
      "source": [
        "2.What happens when a class statement's top level contains a basic assignment statement?\n",
        "\n"
      ],
      "metadata": {
        "id": "vAwrg0GcusL4"
      }
    },
    {
      "cell_type": "markdown",
      "source": [
        "3.Why does a class need to manually call a superclass's __init__ method?\n",
        "\n",
        "It's because one needs to define something that is NOT done in the base-class' __init__ , and the only possibility to obtain that is to put its execution in a derived-class' __init__ function."
      ],
      "metadata": {
        "id": "J0DEB8BhvXnn"
      }
    },
    {
      "cell_type": "markdown",
      "source": [
        "4.How can you augment, instead of completely replacing, an inherited method?\n",
        "\n"
      ],
      "metadata": {
        "id": "AqusleupvyPR"
      }
    },
    {
      "cell_type": "markdown",
      "source": [
        "5.How is the local scope of a class different from that of a function?\n",
        "\n",
        "A variable declared inside the function’s body or in the local scope is called as local variable.\n",
        "\n",
        "A variable, with global scope can be used anywhere in the program. It can be created by defining a variable outside the scope of any function/block."
      ],
      "metadata": {
        "id": "N_6xQwUUwW_J"
      }
    }
  ]
}