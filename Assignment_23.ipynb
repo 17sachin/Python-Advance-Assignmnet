{
  "nbformat": 4,
  "nbformat_minor": 0,
  "metadata": {
    "colab": {
      "name": "Assignment_23.ipynb",
      "provenance": [],
      "collapsed_sections": [],
      "authorship_tag": "ABX9TyPIH6+xNUsyHA5X6/+jnTP3",
      "include_colab_link": true
    },
    "kernelspec": {
      "name": "python3",
      "display_name": "Python 3"
    },
    "language_info": {
      "name": "python"
    }
  },
  "cells": [
    {
      "cell_type": "markdown",
      "metadata": {
        "id": "view-in-github",
        "colab_type": "text"
      },
      "source": [
        "<a href=\"https://colab.research.google.com/github/17sachin/Python-Advance-Assignmnet/blob/main/Assignment_23.ipynb\" target=\"_parent\"><img src=\"https://colab.research.google.com/assets/colab-badge.svg\" alt=\"Open In Colab\"/></a>"
      ]
    },
    {
      "cell_type": "markdown",
      "source": [
        "Q1.If you have any, what are your choices for increasing the comparison between different figures on the same graph?\n",
        "\n",
        "Bar charts are good for comparisons, while line charts work better for trends. Scatter plot charts are good for relationships and distributions, but pie charts should be used only for simple compositions — never for comparisons or distributions."
      ],
      "metadata": {
        "id": "0Zs1ap-_G6E-"
      }
    },
    {
      "cell_type": "markdown",
      "source": [
        "Q2.Can you explain the benefit of compound interest over a higher rate of interest that does not compound after reading this chapter?\n",
        "\n",
        "Compound interest causes your wealth to grow faster. It makes a sum of money grow at a faster rate than simple interest because you will earn returns on the money you invest, as well as on returns at the end of every compounding period. This means that you don't have to put away as much money to reach your goals!\n",
        "\n",
        "One of the drawbacks of taking advantage of compound interest options is that it can sometimes be more expensive than you realize. The cost of compound interest is not always immediately apparent and if you do not manage your investment closely, making interest payments can actually lose you money.\n"
      ],
      "metadata": {
        "id": "6tyzQObhHQ7l"
      }
    },
    {
      "cell_type": "markdown",
      "source": [
        "Q3.What is a histogram, exactly? Name a numpy method for creating such a graph.\n",
        "\n",
        "A histogram is a graphical representation that organizes a group of data points into user-specified ranges. Similar in appearance to a bar graph, the histogram condenses a data series into an easily interpreted visual by taking many data points and grouping them into logical ranges or bins.\n",
        "\n",
        "Numpy has a built-in numpy.histogram() function which represents the frequency of data distribution in the graphical form. The rectangles having equal horizontal size corresponds to class interval called bin and variable height corresponding to the frequency.\n"
      ],
      "metadata": {
        "id": "x6n6HoC4He0W"
      }
    },
    {
      "cell_type": "markdown",
      "source": [
        "Q4.If necessary, how do you change the aspect ratios between the X and Y axes?\n",
        "\n",
        "You can change the aspect ratio using the pbaspect function. Set the ratio as a three-element vector of positive values that represent the relative axis lengths. For example, plot an elongated circle. Then set the plot box aspect ratio so that the x-axis is twice the length of the y-axis and z-axis (not shown)."
      ],
      "metadata": {
        "id": "zqI41HpEH8Yo"
      }
    },
    {
      "cell_type": "markdown",
      "source": [
        "Q5.Compare and contrast the three types of array multiplication between two numpy arrays: dot product, outer product, and regular multiplication of two numpy arrays.\n",
        "\n",
        "A numpy array is a grid of values, all of the same type, and is indexed by a tuple of nonnegative integers. A list is the Python equivalent of an array, but is resizeable and can contain elements of different types. A common beginner question is what is the real difference here. The answer is performance.\n",
        "\n"
      ],
      "metadata": {
        "id": "bWaB4m61IEk1"
      }
    },
    {
      "cell_type": "markdown",
      "source": [
        "Q6.Before you buy a home, which numpy function will you use to measure your monthly mortgage payment?\n",
        "\n",
        "In order to calculate the monthly mortgage payment, you will use the numpy function . pmt(rate, nper, pv) where: rate = The periodic (monthly) interest rate.\n",
        "\n",
        "PMT, one of the financial functions, calculates the payment for a loan based on constant payments and a constant interest rate. Use the Excel Formula Coach to figure out a monthly loan payment. At the same time, you'll learn how to use the PMT function in a formula."
      ],
      "metadata": {
        "id": "OiqHvaipIW6e"
      }
    },
    {
      "cell_type": "markdown",
      "source": [
        "Q7.Can string data be stored in numpy arrays? If so, list at least one restriction that applies to this data.\n",
        "\n",
        "The elements of a NumPy array, or simply an array, are usually numbers, but can also be boolians, strings, or other objects. When the elements are numbers, they must all be of the same type. For example, they might be all integers or all floating point numbers."
      ],
      "metadata": {
        "id": "b146cg-wIjDY"
      }
    }
  ]
}