{
  "nbformat": 4,
  "nbformat_minor": 0,
  "metadata": {
    "colab": {
      "name": "Assignment_1.ipynb",
      "provenance": [],
      "collapsed_sections": [],
      "authorship_tag": "ABX9TyN7OqLreSkEiqooZ3eFLMm5",
      "include_colab_link": true
    },
    "kernelspec": {
      "name": "python3",
      "display_name": "Python 3"
    },
    "language_info": {
      "name": "python"
    }
  },
  "cells": [
    {
      "cell_type": "markdown",
      "metadata": {
        "id": "view-in-github",
        "colab_type": "text"
      },
      "source": [
        "<a href=\"https://colab.research.google.com/github/17sachin/Python-Advance-Assignmnet/blob/main/Assignment_1.ipynb\" target=\"_parent\"><img src=\"https://colab.research.google.com/assets/colab-badge.svg\" alt=\"Open In Colab\"/></a>"
      ]
    },
    {
      "cell_type": "markdown",
      "source": [
        "Q1.What is the purpose of Python's OOP?\n",
        "\n",
        "In Python, Object-Oriented Programming (OOPs) is a programming paradigm that uses objects and classes in programming. It aims to implement real-world entities like inheritance, polymorphisms, encapsulation, etc. in the programming. The main concept of OOPs is to bind the data and the functions that work on that together as a single unit so that no other part of the code can access this data. "
      ],
      "metadata": {
        "id": "AlBF-dtHieOH"
      }
    },
    {
      "cell_type": "markdown",
      "source": [
        "Q2.Where does an inheritance search look for an attribute?\n",
        "\n",
        "In Python, inheritance happens when an object is qualified, and involves searching an attribute definition tree (one or more namespaces).\n",
        "The inheritance search is simply a search of the tree from bottom to top looking for the lowest occurrence of an attribute name.\n",
        "\n"
      ],
      "metadata": {
        "id": "LNZmCgWYi_RV"
      }
    },
    {
      "cell_type": "markdown",
      "source": [
        "Q3.How do you distinguish between a class object and an instance object?\n",
        "\n",
        "Instance refers to the copy of the object at a particular time whereas object refers to the memory address of the class.\n",
        "An instance is also the physical manifestation of a class that occupies memory and has data members."
      ],
      "metadata": {
        "id": "Fkh2Ywwajuqs"
      }
    },
    {
      "cell_type": "markdown",
      "source": [
        "Q4.What makes the first argument in a class’s method function special?\n",
        "\n",
        "The first argument of every class method, including init, is always a reference to the current instance of the class. By convention, this argument is always named self. In the init method, self refers to the newly created object; in other class methods, it refers to the instance whose method was called."
      ],
      "metadata": {
        "id": "aI8ClJHMkixn"
      }
    },
    {
      "cell_type": "markdown",
      "source": [
        "Q5.What is the purpose of the __init__ method?\n",
        "\n",
        "The __init__ method is similar to constructors in C++ and Java.\n",
        "The __init__ function is called every time an object is created from a class. The __init__ method lets the class initialize the object's attributes and serves no other purpose. It is only used within classes."
      ],
      "metadata": {
        "id": "LBf1JVyikwrO"
      }
    },
    {
      "cell_type": "markdown",
      "source": [
        "Q6.What is the process for creating a class instance?\n",
        "\n",
        "To create instances of a class,call the class using class name and pass in whatever arguments its __init__ method accepts."
      ],
      "metadata": {
        "id": "9MKDPTQblHd_"
      }
    },
    {
      "cell_type": "markdown",
      "source": [
        "Q7.What is the process for creating a class?\n",
        "\n",
        "Create a Class. To create a class, use the keyword class :.\n",
        "To define a class, use the class keyword, then give your class a name."
      ],
      "metadata": {
        "id": "tZaC4p6xlrTe"
      }
    },
    {
      "cell_type": "markdown",
      "source": [
        "Q8.How would you define the superclasses of a class?\n",
        "\n",
        "A superclass is the class from which many subclasses can be created. The subclasses inherit the characteristics of a superclass. The superclass is also known as the parent class or base class"
      ],
      "metadata": {
        "id": "AMxwLa-1mP7A"
      }
    }
  ]
}